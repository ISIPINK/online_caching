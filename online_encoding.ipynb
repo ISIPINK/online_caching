{
 "cells": [
  {
   "cell_type": "markdown",
   "metadata": {},
   "source": [
    " # Online Huffman encoding idea\n",
    "\n",
    "imagine we have stream of char ABCDEF and we want to use an encoding to minimize the length of the stream in bits, for the IID case this can be solved with high probability by assigning low length codings to frequent char this is normal huffman encoding, but if the frequencies aren't know or worse the stream is adversarial we frame this problem as an online linear optimization problem.     \n",
    "\n",
    "# fractional encoding\n",
    "\n",
    "Like we needed fractional caching to formulate caching as an OLO, we also do some convexification trick, in normal encoding you assign each character a code instead we reduce this code to only the code length as this doesn't change our performance metric (given characters with the same code length you can find a scheme to decide which character gets assign to which code), now in fractional encoding you assign a fraction of a character to each encoding length in general we can represent all the fractional encodings of the characters in following tensor $y^{cl}$ where $c$ indexes the character and $l$ indexes the code length. To be a feasible fractional encoding $y$ has to satisfy following conditions:\n",
    "- probability distribution over code lengths for each character\n",
    "$$\n",
    "\\forall c: \\sum_{l} y^{cl} = 1, \\forall  c,l :y^{cl} \\ge 0.\n",
    "$$ \n",
    "- restriction on the amount of code lengths for each size \n",
    "$$\n",
    "\\forall l: \\sum_{c} y^{cl} \\le 2^{l-1}-1.\n",
    "$$ \n",
    "\n",
    "for the fractional encoding the linear loss for an observed character is the average code length:\n",
    "$$\n",
    "l(c) = \\sum_{l}y^{cl}l .\n",
    "$$ \n",
    "which is linear in the tensor $y$.\n"
   ]
  }
 ],
 "metadata": {
  "language_info": {
   "name": "python"
  }
 },
 "nbformat": 4,
 "nbformat_minor": 2
}

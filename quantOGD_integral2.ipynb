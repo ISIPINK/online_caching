{
 "cells": [
  {
   "cell_type": "code",
   "execution_count": 1,
   "metadata": {},
   "outputs": [
    {
     "data": {
      "text/plain": [
       "get_fraction (generic function with 1 method)"
      ]
     },
     "metadata": {},
     "output_type": "display_data"
    }
   ],
   "source": [
    "using Profile\n",
    "using PProf\n",
    "using Plots\n",
    "using Distributions\n",
    "include(\"zipf.jl\")\n",
    "\n",
    "mutable struct quant_OGD_integral{TP<:Integer,TC<:UInt8} # TP = Type Pointer, TC = Type Counter\n",
    "    const C_UPPER::TP\n",
    "    cache_size::TP # tracks the current cache size\n",
    "    const ONE::TC\n",
    "    lazy_update::TC\n",
    "    step_size::TC\n",
    "    count::TC # for count lookup and calculation\n",
    "    d::TC # for putting the d calculation\n",
    "    u::TC # for uniform lookup \n",
    "    counter_uniform::Dict{TP,Tuple{TC,TC}} # pointer -> (counter, uniform)\n",
    "    d_look::Dict{TC,Set{TP}} # d -> set of pointers with this d\n",
    "    val_look::Dict{TC,Set{TP}} # counter -> set of pointers with this counter\n",
    "    to_evict::Set{TP} # set of pointers of delayed evictions\n",
    "end\n",
    "\n",
    "# UInt comparisons and additions should be checked carefully, we're not an \n",
    "# expert in auto promotions in julia\n",
    "\n",
    "function step!(q::quant_OGD_integral, i::Integer)\n",
    "    if haskey(q.counter_uniform, i) # checks if count[i] is non zero\n",
    "        q.count, q.u = q.counter_uniform[i]\n",
    "        delete!(q.val_look[q.count], i)\n",
    "        if q.count - q.lazy_update > q.u # checks if d>0 \n",
    "            q.d = q.count + q.lazy_update - q.u\n",
    "            delete!(q.d_look[q.d], i)\n",
    "            q.cache_size -= one(q.cache_size)\n",
    "        end\n",
    "\n",
    "        if (q.ONE - q.step_size >= q.count - q.lazy_update) #checks if + step size will be bigger then 1 in mod 2^l\n",
    "            q.count += q.step_size\n",
    "        else\n",
    "            q.count = q.lazy_update + q.ONE\n",
    "        end\n",
    "\n",
    "    else\n",
    "        q.count = q.lazy_update + q.step_size\n",
    "        # updating the uniform always would requiring to change the whole control flow\n",
    "        q.u = rand(zero(q.ONE):q.ONE)\n",
    "    end\n",
    "    q.counter_uniform[i] = (q.count, q.u)\n",
    "\n",
    "    push!(q.val_look[q.count], i)\n",
    "    if q.count - q.lazy_update > q.u # checks if d>0 \n",
    "        q.d = q.count - q.u\n",
    "        # q.d_look[q.d] = push!(get(q.d_look, q.d, Set()), i)\n",
    "        push!(q.d_look[q.d], i) # better but ensure that all q.d keys exists\n",
    "        q.cache_size += one(q.cache_size)\n",
    "        if (i in q.to_evict)\n",
    "            delete!(q.to_evict, i)\n",
    "            q.cache_size -= one(q.cache_size)\n",
    "        end\n",
    "    end\n",
    "\n",
    "    resize_cache!(q)\n",
    "end\n",
    "\n",
    "\n",
    "function resize_cache!(q::quant_OGD_integral)\n",
    "    while q.cache_size > q.C_UPPER\n",
    "        if !isempty(q.to_evict)\n",
    "            pop!(q.to_evict)\n",
    "            q.cache_size -= one(q.cache_size)\n",
    "        else\n",
    "            q.lazy_update += one(q.lazy_update)\n",
    "            # union!(q.to_evict, get(q.d_look, q.lazy_update, Set()))\n",
    "            union!(q.to_evict, q.d_look[q.lazy_update]) # better but ensure that all q.d keys exists\n",
    "            empty!(q.d_look[q.lazy_update])\n",
    "            delete!.(Ref(q.counter_uniform), q.val_look[q.lazy_update]) # deletes all 0 counters from the dict\n",
    "            empty!(q.val_look[q.lazy_update])\n",
    "        end\n",
    "    end\n",
    "end\n",
    "\n",
    "\n",
    "get_fraction(q::quant_OGD_integral, i) = (haskey(counter_uniform, i)) ? (q.counter[i][1] - q.lazy_update) / q.ONE : 0\n"
   ]
  },
  {
   "cell_type": "code",
   "execution_count": 35,
   "metadata": {},
   "outputs": [
    {
     "data": {
      "text/plain": [
       "init_quant_OGD_integral (generic function with 1 method)"
      ]
     },
     "metadata": {},
     "output_type": "display_data"
    }
   ],
   "source": [
    "# Constructor for quantOGD\n",
    "function init_quant_OGD_integral(;\n",
    "    C=10,\n",
    "    step_size=1,\n",
    "    TP::Type{<:Integer}=UInt32,\n",
    "    TC::Type{<:UInt8}=UInt8\n",
    ")\n",
    "    C_UPPER = TP(C)\n",
    "    cache_size = zero(C_UPPER)\n",
    "    ONE = TC(typemax(TC))\n",
    "    lazy_update = zero(ONE)\n",
    "    step_size = TC(step_size)\n",
    "    count = zero(ONE)  # maybe I should init to nothing? \n",
    "    d = zero(ONE)\n",
    "    u = zero(ONE)\n",
    "\n",
    "    counter_uniform = Dict{TP,Tuple{TC,TC}}()\n",
    "    d_look = Dict(TC(i) => Set{TP}() for i in 0:ONE)\n",
    "    val_look = Dict(TC(i) => Set{TP}() for i in 0:ONE)\n",
    "    to_evict = Set{TP}()\n",
    "\n",
    "    return quant_OGD_integral{TP,TC}(C_UPPER, cache_size, ONE, lazy_update, step_size, count, d, u, counter_uniform, d_look, val_look, to_evict)\n",
    "end"
   ]
  },
  {
   "cell_type": "code",
   "execution_count": 37,
   "metadata": {},
   "outputs": [],
   "source": [
    "q = init_quant_OGD_integral(C=3,step_size = UInt8(100))\n",
    "step!(q, UInt32(10000))\n",
    "println(q)\n",
    "\n",
    "ii = repeat(UInt32(0):UInt32(5),10)\n",
    "println(length(ii))\n",
    "for i in ii\n",
    "    step!(q, i)\n",
    "end\n",
    "cache = Set()\n",
    "for (_, s) in q.d_look\n",
    "    union!(cache,s)\n",
    "end\n",
    "union!(cache, q.to_evict)\n",
    "println(length(cache))\n",
    "println(cache)\n",
    "println(q)\n",
    "\n",
    "# println(\"counter uniform: \", q.counter_uniform)\n",
    "# println(\"dlook: \", q.d_look)"
   ]
  },
  {
   "cell_type": "code",
   "execution_count": 6,
   "metadata": {},
   "outputs": [
    {
     "name": "stdout",
     "output_type": "stream",
     "text": [
      "Dict{UInt8, Tuple{UInt8, UInt8}}(0x02 => (0x04, 0x05), 0x01 => (0x02, 0x03))\n",
      "32\n"
     ]
    }
   ],
   "source": [
    "a= Dict{UInt8, Tuple{UInt8,UInt8}}()\n",
    "a[1] = (2,3) \n",
    "a[2] = (4,5) \n",
    "println(a)\n",
    "\n",
    "# a[1] = (1,1) \n",
    "# a[2] = (2,2) \n",
    "# println(a)\n",
    "x,y = a[1]\n",
    "println(y,x)\n"
   ]
  },
  {
   "cell_type": "code",
   "execution_count": null,
   "metadata": {},
   "outputs": [],
   "source": []
  },
  {
   "cell_type": "code",
   "execution_count": 2,
   "metadata": {},
   "outputs": [
    {
     "name": "stdout",
     "output_type": "stream",
     "text": [
      "255\n",
      "6\n",
      "0\n",
      "UInt8\n",
      "255\n"
     ]
    }
   ],
   "source": [
    "b = UInt8(5)\n",
    "c = UInt8(254)\n",
    "c = UInt8(255)\n",
    "println(c)\n",
    "println(b-c)\n",
    "c += one(c)\n",
    "println(c)\n",
    "println(typeof(c))\n",
    "println(typemax(c))"
   ]
  },
  {
   "cell_type": "code",
   "execution_count": 27,
   "metadata": {},
   "outputs": [
    {
     "name": "stdout",
     "output_type": "stream",
     "text": [
      "Set([6, 7, 2, 8, 3, 1])\n",
      "Set([6, 2, 3, 1])\n",
      "Set([6, 3, 1])\n",
      "Set([6, 3, 1])\n",
      "Set([3, 1])\n",
      "Set{Int64}()\n"
     ]
    }
   ],
   "source": [
    "c = Set([1,2,3,6,7,8])\n",
    "println(c)\n",
    "delete!.(Ref(c),Set([7,8]))\n",
    "println(c)\n",
    "delete!(c, 2)\n",
    "println(c)\n",
    "delete!(c, 4)\n",
    "println(c)\n",
    "pop!(c)\n",
    "println(c)\n",
    "empty!(c)\n",
    "println(c)"
   ]
  }
 ],
 "metadata": {
  "kernelspec": {
   "display_name": "Julia 1.11.1",
   "language": "julia",
   "name": "julia-1.11"
  },
  "language_info": {
   "file_extension": ".jl",
   "mimetype": "application/julia",
   "name": "julia",
   "version": "1.11.1"
  }
 },
 "nbformat": 4,
 "nbformat_minor": 2
}
